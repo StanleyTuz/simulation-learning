{
 "cells": [
  {
   "cell_type": "markdown",
   "metadata": {},
   "source": [
    "Often, the event list is stored as a linked list ranked in increasing order on event time:\n",
    "$$ \\text{event list} = \\left[ E_{1.32}, E_{1.89}, E_{2.09}, \\ldots, E_{504} \\right] $$\n",
    "This ordering is always maintained (more complexity at insertion-time, but less complexity at \"query\" time)."
   ]
  },
  {
   "cell_type": "markdown",
   "metadata": {},
   "source": [
    "Idea: each event type can subclass the same base class. How does this relate to \"dispatch\"?"
   ]
  },
  {
   "cell_type": "markdown",
   "metadata": {},
   "source": [
    "An `EventList` type can handle maintaining the sortedness of the list."
   ]
  },
  {
   "cell_type": "code",
   "execution_count": 28,
   "metadata": {},
   "outputs": [],
   "source": [
    "class Event:\n",
    "    \"\"\"Represent an event in a simulation.\"\"\"\n",
    "    def __init__(self, time: int):\n",
    "        self.time = time\n",
    "\n",
    "    def __repr__(self):\n",
    "        return f\"Event({self.time:0.2f})\"\n",
    "\n",
    "class EventList:\n",
    "\n",
    "    def __init__(self):\n",
    "        self.list = list()\n",
    "\n",
    "    def insert(self, event: Event):\n",
    "        if not self.list:\n",
    "            self.list.append(event)\n",
    "        else:\n",
    "            # search for where to insert\n",
    "            for idx in range(0, len(self.list)):\n",
    "                if event.time < self.list[idx].time:\n",
    "                    self.list = self.list[:idx] + [event] + self.list[idx:]\n",
    "                    return\n",
    "            self.list += [event]\n",
    "                \n",
    "    def pop(self):\n",
    "        try:\n",
    "            return self.list.pop(0) # pop from front of list\n",
    "        except IndexError:\n",
    "            return None"
   ]
  },
  {
   "cell_type": "code",
   "execution_count": 29,
   "metadata": {},
   "outputs": [],
   "source": [
    "event_list = EventList()\n",
    "event_list.insert(Event(1.23))\n",
    "event_list.insert(Event(1.69))\n",
    "event_list.insert(Event(1.84))\n",
    "event_list.insert(Event(0.81))\n",
    "event_list.insert(Event(1.99))\n"
   ]
  },
  {
   "cell_type": "code",
   "execution_count": 30,
   "metadata": {},
   "outputs": [
    {
     "data": {
      "text/plain": [
       "[Event(0.81), Event(1.23), Event(1.69), Event(1.84), Event(1.99)]"
      ]
     },
     "execution_count": 30,
     "metadata": {},
     "output_type": "execute_result"
    }
   ],
   "source": [
    "event_list.list"
   ]
  },
  {
   "cell_type": "code",
   "execution_count": 31,
   "metadata": {},
   "outputs": [
    {
     "data": {
      "text/plain": [
       "Event(0.81)"
      ]
     },
     "execution_count": 31,
     "metadata": {},
     "output_type": "execute_result"
    }
   ],
   "source": [
    "event_list.pop()"
   ]
  },
  {
   "cell_type": "code",
   "execution_count": 33,
   "metadata": {},
   "outputs": [
    {
     "data": {
      "text/plain": [
       "[Event(1.23), Event(1.69), Event(1.84), Event(1.99)]"
      ]
     },
     "execution_count": 33,
     "metadata": {},
     "output_type": "execute_result"
    }
   ],
   "source": [
    "event_list.list"
   ]
  },
  {
   "cell_type": "code",
   "execution_count": null,
   "metadata": {},
   "outputs": [],
   "source": []
  }
 ],
 "metadata": {
  "kernelspec": {
   "display_name": ".venv",
   "language": "python",
   "name": "python3"
  },
  "language_info": {
   "codemirror_mode": {
    "name": "ipython",
    "version": 3
   },
   "file_extension": ".py",
   "mimetype": "text/x-python",
   "name": "python",
   "nbconvert_exporter": "python",
   "pygments_lexer": "ipython3",
   "version": "3.10.14"
  }
 },
 "nbformat": 4,
 "nbformat_minor": 2
}
