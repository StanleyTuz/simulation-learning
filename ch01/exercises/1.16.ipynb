{
 "cells": [
  {
   "cell_type": "markdown",
   "metadata": {},
   "source": [
    "Same problem as 1.14, but now there is no Q2. If S2 is busy when a customer completes service S1, then they simply remain there until S2 becomes idle.\n",
    "\n",
    "Events\n",
    "\n",
    "* A: Arrival of a new customers to S1.\n",
    "    - If S1 is busy or blocked, customer enters queue Q.\n",
    "* C: Completion of a customer's service at S1.\n",
    "    - If S2 is idle, customer immediately enters service at S2.\n",
    "    - If S2 is busy, S1 becomes blocked.\n",
    "* S: A customer starts service at S2.\n",
    "    - \n",
    "* D: A customer departs service at S2.\n",
    "    - If S1 is idle or busy (Q1 is empty), then S2 becomes idle.\n",
    "    - If S1 is blocked, then S2 accepts the waiting customer and S1 becomes either busy or idle."
   ]
  },
  {
   "cell_type": "code",
   "execution_count": null,
   "metadata": {},
   "outputs": [],
   "source": []
  }
 ],
 "metadata": {
  "kernelspec": {
   "display_name": ".venv",
   "language": "python",
   "name": "python3"
  },
  "language_info": {
   "codemirror_mode": {
    "name": "ipython",
    "version": 3
   },
   "file_extension": ".py",
   "mimetype": "text/x-python",
   "name": "python",
   "nbconvert_exporter": "python",
   "pygments_lexer": "ipython3",
   "version": "3.10.14"
  }
 },
 "nbformat": 4,
 "nbformat_minor": 2
}
