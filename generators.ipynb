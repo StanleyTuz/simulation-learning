{
 "cells": [
  {
   "attachments": {},
   "cell_type": "markdown",
   "metadata": {},
   "source": [
    "## The Sequence Protocol\n",
    "\n",
    "A **sequence** is\n",
    ">An iterable which supports efficient element access using integer indices via the `__getitem__()` special method and defines a `__len__()` method that returns the length of the sequence. [Ref](https://docs.python.org/3/glossary.html#term-sequence)\n",
    "\n",
    "A `dict` is considered a mapping because the lookups use hashable keys instead of just integers. `collections.abc.Sequence` defines a richer interface (more special methods)."
   ]
  },
  {
   "attachments": {},
   "cell_type": "markdown",
   "metadata": {},
   "source": [
    "# Iterable\n",
    "\n",
    "An *iterable* is an object that can return its members one at a time. All sequences are iterables, and so are some non-sequence types. They can be used whenever a sequence is needed.\n",
    "\n",
    "- An *iterator* object is returned when an iterable is passed to the `iter()` built-in function.\n",
    "- An iterator can be used to make one pass over the iterable's values.\n",
    "- Typically one does not invoke `iter()` explicity, or deal with iterators at all; `for` statements do this automatically.\n",
    "\n",
    "`iter()` looks first for an `__iter__()` method; next for a `__getitem__()`; lastly raises `TypeError`. `IndexError` is used to identify that there are no more items."
   ]
  },
  {
   "cell_type": "code",
   "execution_count": 17,
   "metadata": {},
   "outputs": [
    {
     "name": "stdout",
     "output_type": "stream",
     "text": [
      "->0\n"
     ]
    },
    {
     "data": {
      "text/plain": [
       "False"
      ]
     },
     "execution_count": 17,
     "metadata": {},
     "output_type": "execute_result"
    },
    {
     "ename": "",
     "evalue": "",
     "output_type": "error",
     "traceback": [
      "\u001b[1;31mThe Kernel crashed while executing code in the the current cell or a previous cell. Please review the code in the cell(s) to identify a possible cause of the failure. Click <a href='https://aka.ms/vscodeJupyterKernelCrash'>here</a> for more info. View Jupyter <a href='command:jupyter.viewOutput'>log</a> for further details."
     ]
    }
   ],
   "source": [
    "class Spam:\n",
    "    def __getitem__(self, i):\n",
    "        print(f\"->{i}\")\n",
    "        raise IndexError()\n",
    "    \n",
    "    # def __iter__(self):\n",
    "    #     pass\n",
    "    \n",
    "spam_can = Spam()\n",
    "iter(spam_can) # prints <iterator at 0x27924c8fee0>\n",
    "\n",
    "list(spam_can) # prints ->0 []\n",
    "\n",
    "# Goose typing: check against abc\n",
    "from collections.abc import Iterable\n",
    "isinstance(spam_can, Iterable) # False unless we implement __iter__()"
   ]
  },
  {
   "attachments": {},
   "cell_type": "markdown",
   "metadata": {},
   "source": [
    "An iterable is\n",
    ">any object from which the `iter` built-in function can obtain an iterator.\n",
    "\n",
    ">Objects implementing an `__iter__` method returning an **iterator** are iterable.\n",
    "\n",
    ">Sequences are always iterable...\n",
    "\n",
    ">...as are objects implementing a `__getitem__` method that accepts 0-based indexes."
   ]
  },
  {
   "attachments": {},
   "cell_type": "markdown",
   "metadata": {},
   "source": [
    "**Key**: Python obtains iterators from iterables."
   ]
  },
  {
   "attachments": {},
   "cell_type": "markdown",
   "metadata": {},
   "source": [
    "To clarify:\n",
    "* Iterables have `__iter__()` that instantiates a new iterator.\n",
    "* Iterators have\n",
    "  * a `__next__()` that returns individual items\n",
    "  * a `__iter__()` method that returns `self`"
   ]
  },
  {
   "attachments": {},
   "cell_type": "markdown",
   "metadata": {},
   "source": [
    "## Generators\n",
    "\n",
    "Any Python function that has the `yield` keyword in its body is a generator function.\n",
    "\n",
    "* A **generator** (or **generator function**) is a function that contains the `yield` keyword\n",
    "  * When called, it returns a \"generator object\" AKA \"generator iterator\"\n",
    "  * \"A generator function is a generator factory\"\n",
    "* A **generator iterator** is created by a generator function.\n",
    "  * This is the thing that actually iterates through the values\n",
    "* A **generator expression** is an expression that returns an iterator.\n",
    "  * Recall that an \"expression\" is a piece of syntax that evaluates to some value.\n",
    "  * A \"statement\" is a part of a suite (block of code). A statement is either an expression or a construct with a keyword (such as `if`, `while`, or `for`)."
   ]
  },
  {
   "attachments": {},
   "cell_type": "markdown",
   "metadata": {},
   "source": [
    "A generator doesn't \"return\" values.\n",
    "- Calling a generator function returns a generator.\n",
    "- A generator yields values.\n",
    "- The generator doesn't return values in the typical way:\n",
    "  - the `return` in the body of the generator function causes the generator to raise `StopIteration`\n",
    "  - the caller can retrieve the \"returned\" value from the `StopIteration` exception\n",
    "  - this is automatically done via the `yield from` syntax"
   ]
  },
  {
   "cell_type": "code",
   "execution_count": null,
   "metadata": {},
   "outputs": [],
   "source": []
  },
  {
   "cell_type": "code",
   "execution_count": null,
   "metadata": {},
   "outputs": [],
   "source": []
  },
  {
   "attachments": {},
   "cell_type": "markdown",
   "metadata": {},
   "source": [
    "# Questions\n",
    "\n",
    "1. When to use `typing.protocol` vs `collections.abc`?\n",
    "2. Generators `yield from`?"
   ]
  }
 ],
 "metadata": {
  "kernelspec": {
   "display_name": ".venv",
   "language": "python",
   "name": "python3"
  },
  "language_info": {
   "codemirror_mode": {
    "name": "ipython",
    "version": 3
   },
   "file_extension": ".py",
   "mimetype": "text/x-python",
   "name": "python",
   "nbconvert_exporter": "python",
   "pygments_lexer": "ipython3",
   "version": "3.11.1 (tags/v3.11.1:a7a450f, Dec  6 2022, 19:58:39) [MSC v.1934 64 bit (AMD64)]"
  },
  "orig_nbformat": 4,
  "vscode": {
   "interpreter": {
    "hash": "50a1cc32bc36d623d54641a1bada88b320ee9173cde2ee79aea2fa22388d558f"
   }
  }
 },
 "nbformat": 4,
 "nbformat_minor": 2
}
