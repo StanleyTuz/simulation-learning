{
 "cells": [
  {
   "attachments": {},
   "cell_type": "markdown",
   "metadata": {},
   "source": [
    "- Behavior of active components is modeled with \"processes\"\n",
    "- Processes live in an \"environment\"\n",
    "- Processes interact with the environment and each other via \"events\"\n",
    "\n",
    "- Processes are Python generators (\"process functions\")\n",
    "- They create events and `yield` them in order to wait for them to occur\n",
    "\n",
    "- When a process yields an event, the process is suspended.\n",
    "- When the event occurs, the event is processed, i.e., the process is resumed\n",
    "- Multiple processes can wait for the same event\n",
    "\n",
    "E.g., a `Timeout` event occurs after a certain amount of simulation time has passed. All events can be created by calling the appropriate method of the `Environment` in which the process lives."
   ]
  },
  {
   "attachments": {},
   "cell_type": "markdown",
   "metadata": {},
   "source": [
    "# Example\n",
    "\n",
    "A car process: a car alternately drives and parks. When it starts driving or parking, it will print the current simulation time."
   ]
  },
  {
   "cell_type": "code",
   "execution_count": 1,
   "metadata": {},
   "outputs": [],
   "source": [
    "import simpy\n",
    "\n",
    "def car(env: simpy.Environment): # need to pass Env in order to create new events\n",
    "    \"\"\"Process function (generator).\n",
    "    \n",
    "    Upon yield, returns the control flow back to the simulation. After yield is processed,\n",
    "    the simulation resumes after `yield`.\n",
    "    \"\"\"\n",
    "    while True:\n",
    "        print(f\"Start parking at {env.now}\")\n",
    "        parking_duration = 5\n",
    "        yield env.timeout(parking_duration) # yield a timeout event\n",
    "\n",
    "        # after parking is over, start driving again\n",
    "        print(f\"Start driving at {env.now}\")\n",
    "        trip_duration = 2\n",
    "        yield env.timeout(trip_duration)"
   ]
  },
  {
   "cell_type": "code",
   "execution_count": 9,
   "metadata": {},
   "outputs": [
    {
     "name": "stdout",
     "output_type": "stream",
     "text": [
      "Start parking at 0\n",
      "Start driving at 5\n",
      "Start parking at 7\n",
      "Start driving at 12\n",
      "Start parking at 14\n"
     ]
    }
   ],
   "source": [
    "env = simpy.Environment()\n",
    "# car(env) # this returns a \"process\" generator object\n",
    "env.process(car(env)) # this adds the process generator to the env\n",
    "\n",
    "# no code is being executed yet, but scheduled\n",
    "\n",
    "# run the sim\n",
    "env.run(until=15)"
   ]
  },
  {
   "cell_type": "code",
   "execution_count": null,
   "metadata": {},
   "outputs": [],
   "source": []
  }
 ],
 "metadata": {
  "kernelspec": {
   "display_name": ".venv",
   "language": "python",
   "name": "python3"
  },
  "language_info": {
   "codemirror_mode": {
    "name": "ipython",
    "version": 3
   },
   "file_extension": ".py",
   "mimetype": "text/x-python",
   "name": "python",
   "nbconvert_exporter": "python",
   "pygments_lexer": "ipython3",
   "version": "3.11.1 (tags/v3.11.1:a7a450f, Dec  6 2022, 19:58:39) [MSC v.1934 64 bit (AMD64)]"
  },
  "orig_nbformat": 4,
  "vscode": {
   "interpreter": {
    "hash": "50a1cc32bc36d623d54641a1bada88b320ee9173cde2ee79aea2fa22388d558f"
   }
  }
 },
 "nbformat": 4,
 "nbformat_minor": 2
}
