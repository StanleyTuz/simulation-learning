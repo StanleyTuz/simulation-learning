{
 "cells": [
  {
   "attachments": {},
   "cell_type": "markdown",
   "metadata": {},
   "source": [
    "A `Process` can be used like an event.\n",
    "\n",
    "Once you yield an event, you are resumed once the process has finished."
   ]
  },
  {
   "cell_type": "code",
   "execution_count": 7,
   "metadata": {},
   "outputs": [
    {
     "name": "stdout",
     "output_type": "stream",
     "text": [
      "Start parking and charging at 0\n",
      "Start driving at 5\n",
      "Start parking and charging at 7\n",
      "Start driving at 12\n",
      "Start parking and charging at 14\n"
     ]
    }
   ],
   "source": [
    "import simpy\n",
    "\n",
    "class Car:\n",
    "    def __init__(self, env: simpy.Environment):\n",
    "        self.env = env\n",
    "        # start the run process when an instance is created\n",
    "        self.action = env.process(\n",
    "            generator=self.run(), # env.process: create a new Process instance for generator\n",
    "        )\n",
    "\n",
    "    def run(self):\n",
    "        while True:\n",
    "            print(f\"Start parking and charging at {self.env.now}\")\n",
    "            charge_duration = 5\n",
    "            # yield the process that process() returns to wait for it to finish\n",
    "            yield self.env.process(self.charge(charge_duration))\n",
    "\n",
    "            # Return here once charge process has finished, and we can drive again\n",
    "            print(f\"Start driving at {self.env.now}\")\n",
    "            trip_duration = 2\n",
    "            yield self.env.timeout(trip_duration)\n",
    "\n",
    "    def charge(self, duration):\n",
    "        yield self.env.timeout(duration) # return a Timeout event\n",
    "\n",
    "\n",
    "env = simpy.Environment()\n",
    "car = Car(env)\n",
    "\n",
    "env.run(until=15)"
   ]
  },
  {
   "attachments": {},
   "cell_type": "markdown",
   "metadata": {},
   "source": [
    "We want to permit interrupts to the charging process. We can interrupt a `Process` by calling the `interrupt` method."
   ]
  },
  {
   "cell_type": "code",
   "execution_count": 11,
   "metadata": {},
   "outputs": [
    {
     "name": "stdout",
     "output_type": "stream",
     "text": [
      "Start parking and charging at 0\n",
      "Charging was interrupted at 3. Hope the battery is full enough...\n",
      "Start driving at 3\n",
      "Start parking and charging at 5\n",
      "Start driving at 10\n",
      "Start parking and charging at 12\n"
     ]
    },
    {
     "ename": "",
     "evalue": "",
     "output_type": "error",
     "traceback": [
      "\u001b[1;31mThe Kernel crashed while executing code in the the current cell or a previous cell. Please review the code in the cell(s) to identify a possible cause of the failure. Click <a href='https://aka.ms/vscodeJupyterKernelCrash'>here</a> for more info. View Jupyter <a href='command:jupyter.viewOutput'>log</a> for further details."
     ]
    }
   ],
   "source": [
    "import simpy\n",
    "\n",
    "class Car:\n",
    "    def __init__(self, env: simpy.Environment):\n",
    "        self.env = env\n",
    "        # start the run process when an instance is created\n",
    "        self.action = env.process(\n",
    "            generator=self.run(), # env.process: create a new Process instance for generator\n",
    "        )\n",
    "\n",
    "    def run(self):\n",
    "        while True:\n",
    "            print(f\"Start parking and charging at {self.env.now}\")\n",
    "            charge_duration = 5\n",
    "\n",
    "            try:\n",
    "                # yield the process that process() returns to wait for it to finish\n",
    "                yield self.env.process(self.charge(charge_duration))\n",
    "            except simpy.Interrupt:\n",
    "                # if interrupted, stop charging and switch back to driving\n",
    "                print(f\"Charging was interrupted at {self.env.now}. Hope the battery is full enough...\")\n",
    "\n",
    "            # Return here once charge process has finished, and we can drive again\n",
    "            print(f\"Start driving at {self.env.now}\")\n",
    "            trip_duration = 2\n",
    "            yield self.env.timeout(trip_duration)\n",
    "\n",
    "    def charge(self, duration):\n",
    "        yield self.env.timeout(duration) # return a Timeout event\n",
    "\n",
    "\n",
    "def driver(env: simpy.Environment, car: Car):\n",
    "    \"\"\"Process\"\"\"\n",
    "    yield env.timeout(3)\n",
    "    car.action.interrupt()\n",
    "\n",
    "\n",
    "env = simpy.Environment()\n",
    "car = Car(env)\n",
    "env.process(driver(env, car))\n",
    "\n",
    "env.run(until=15)"
   ]
  },
  {
   "cell_type": "code",
   "execution_count": null,
   "metadata": {},
   "outputs": [],
   "source": []
  }
 ],
 "metadata": {
  "kernelspec": {
   "display_name": ".venv",
   "language": "python",
   "name": "python3"
  },
  "language_info": {
   "codemirror_mode": {
    "name": "ipython",
    "version": 3
   },
   "file_extension": ".py",
   "mimetype": "text/x-python",
   "name": "python",
   "nbconvert_exporter": "python",
   "pygments_lexer": "ipython3",
   "version": "3.11.1 (tags/v3.11.1:a7a450f, Dec  6 2022, 19:58:39) [MSC v.1934 64 bit (AMD64)]"
  },
  "orig_nbformat": 4,
  "vscode": {
   "interpreter": {
    "hash": "50a1cc32bc36d623d54641a1bada88b320ee9173cde2ee79aea2fa22388d558f"
   }
  }
 },
 "nbformat": 4,
 "nbformat_minor": 2
}
