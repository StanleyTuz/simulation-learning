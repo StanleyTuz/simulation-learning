{
 "cells": [
  {
   "cell_type": "code",
   "execution_count": 2,
   "metadata": {},
   "outputs": [
    {
     "name": "stdout",
     "output_type": "stream",
     "text": [
      "fast 0\n",
      "slow 0\n",
      "fast 0.5\n",
      "slow 1\n",
      "fast 1.0\n",
      "fast 1.5\n"
     ]
    }
   ],
   "source": [
    "import simpy\n",
    "\n",
    "def clock(env, name, tick):\n",
    "    while True:\n",
    "        print(name, env.now)\n",
    "        yield env.timeout(tick)\n",
    "\n",
    "# instantiate an environment\n",
    "env = simpy.Environment()\n",
    "\n",
    "env.process(clock(env=env, name='fast', tick=0.5))\n",
    "env.process(clock(env=env, name='slow', tick=1))\n",
    "\n",
    "env.run(until=2)\n"
   ]
  },
  {
   "cell_type": "code",
   "execution_count": 6,
   "metadata": {},
   "outputs": [
    {
     "data": {
      "text/plain": [
       "2"
      ]
     },
     "execution_count": 6,
     "metadata": {},
     "output_type": "execute_result"
    }
   ],
   "source": [
    "env.now # sim clock"
   ]
  },
  {
   "cell_type": "code",
   "execution_count": 10,
   "metadata": {},
   "outputs": [
    {
     "ename": "ValueError",
     "evalue": "<Timeout(30) object at 0x2329e84fe50> is not a generator.",
     "output_type": "error",
     "traceback": [
      "\u001b[1;31m---------------------------------------------------------------------------\u001b[0m",
      "\u001b[1;31mValueError\u001b[0m                                Traceback (most recent call last)",
      "Cell \u001b[1;32mIn[10], line 1\u001b[0m\n\u001b[1;32m----> 1\u001b[0m env\u001b[39m.\u001b[39;49mprocess( \u001b[39m# takes a processgenerator\u001b[39;49;00m\n\u001b[0;32m      2\u001b[0m     env\u001b[39m.\u001b[39;49mtimeout(\u001b[39m30\u001b[39;49m)\n\u001b[0;32m      3\u001b[0m )\n",
      "File \u001b[1;32mc:\\Users\\Stan's PC\\Desktop\\Programming\\simulation\\.venv\\Lib\\site-packages\\simpy\\events.py:341\u001b[0m, in \u001b[0;36mProcess.__init__\u001b[1;34m(self, env, generator)\u001b[0m\n\u001b[0;32m    332\u001b[0m \u001b[39mdef\u001b[39;00m \u001b[39m__init__\u001b[39m(\u001b[39mself\u001b[39m, env: Environment, generator: ProcessGenerator):\n\u001b[0;32m    333\u001b[0m     \u001b[39mif\u001b[39;00m \u001b[39mnot\u001b[39;00m \u001b[39mhasattr\u001b[39m(generator, \u001b[39m'\u001b[39m\u001b[39mthrow\u001b[39m\u001b[39m'\u001b[39m):\n\u001b[0;32m    334\u001b[0m         \u001b[39m# Implementation note: Python implementations differ in the\u001b[39;00m\n\u001b[0;32m    335\u001b[0m         \u001b[39m# generator types they provide. Cython adds its own generator type\u001b[39;00m\n\u001b[1;32m   (...)\u001b[0m\n\u001b[0;32m    339\u001b[0m         \u001b[39m# with a ``throw`` attribute are generators.\u001b[39;00m\n\u001b[0;32m    340\u001b[0m         \u001b[39m# Remove this workaround if it causes issues in production!\u001b[39;00m\n\u001b[1;32m--> 341\u001b[0m         \u001b[39mraise\u001b[39;00m \u001b[39mValueError\u001b[39;00m(\u001b[39mf\u001b[39m\u001b[39m'\u001b[39m\u001b[39m{\u001b[39;00mgenerator\u001b[39m}\u001b[39;00m\u001b[39m is not a generator.\u001b[39m\u001b[39m'\u001b[39m)\n\u001b[0;32m    343\u001b[0m     \u001b[39m# NOTE: The following initialization code is inlined from\u001b[39;00m\n\u001b[0;32m    344\u001b[0m     \u001b[39m# Event.__init__() for performance reasons.\u001b[39;00m\n\u001b[0;32m    345\u001b[0m     \u001b[39mself\u001b[39m\u001b[39m.\u001b[39menv \u001b[39m=\u001b[39m env\n",
      "\u001b[1;31mValueError\u001b[0m: <Timeout(30) object at 0x2329e84fe50> is not a generator."
     ]
    }
   ],
   "source": [
    "env.process( # takes a processgenerator\n",
    "    env.timeout(30)\n",
    ")"
   ]
  },
  {
   "cell_type": "code",
   "execution_count": 15,
   "metadata": {},
   "outputs": [
    {
     "name": "stdout",
     "output_type": "stream",
     "text": [
      "(90.00) Attendee 0 finished talks with knowledge 2.27 and hunger 6.00.\n",
      "(90.00) Attendee 1 finished talks with knowledge 1.83 and hunger 9.00.\n",
      "(90.00) Attendee 2 finished talks with knowledge 1.60 and hunger 9.00.\n",
      "(90.00) Attendee 3 finished talks with knowledge 2.33 and hunger 5.00.\n",
      "(90.00) Attendee 4 finished talks with knowledge 2.67 and hunger 4.00.\n",
      "(105.00) Attendee 0 finished eating with hunger 2.00.\n",
      "(105.00) Attendee 1 finished eating with hunger 2.00.\n",
      "(105.00) Attendee 2 finished eating with hunger 4.00.\n",
      "(105.00) Attendee 3 finished eating with hunger 1.00.\n",
      "(105.00) Attendee 4 finished eating with hunger 0.00.\n",
      "(195.00) Attendee 0 finished talks with knowledge 3.47 and hunger 11.00.\n",
      "(195.00) Attendee 1 finished talks with knowledge 2.67 and hunger 8.00.\n",
      "(195.00) Attendee 2 finished talks with knowledge 2.62 and hunger 10.00.\n",
      "(195.00) Attendee 3 finished talks with knowledge 3.37 and hunger 8.00.\n",
      "(195.00) Attendee 4 finished talks with knowledge 4.67 and hunger 7.00.\n",
      "(210.00) Attendee 0 finished eating with hunger 0.00.\n",
      "(210.00) Attendee 1 finished eating with hunger 0.00.\n",
      "(210.00) Attendee 2 finished eating with hunger 0.00.\n",
      "(210.00) Attendee 3 finished eating with hunger 5.00.\n",
      "(210.00) Attendee 4 finished eating with hunger 0.00.\n"
     ]
    }
   ],
   "source": [
    "from random import randint\n",
    "import simpy\n",
    "\n",
    "TALKS_PER_SESSION = 3\n",
    "TALK_LENGTH = 30\n",
    "BREAK_LENGTH = 15\n",
    "\n",
    "def attendee(env, name, knowledge=0, hunger=0):\n",
    "    while True:\n",
    "        # visit talks\n",
    "        for i in range(TALKS_PER_SESSION):\n",
    "            knowledge += randint(0, 3) / (1 + hunger)\n",
    "            hunger += randint(1, 4)\n",
    "\n",
    "            yield env.timeout(TALK_LENGTH)\n",
    "\n",
    "        print(f\"({env.now:.2f}) Attendee {name} finished talks with knowledge {knowledge:.2f} and hunger {hunger:.2f}.\")\n",
    "\n",
    "        # Go to buffet\n",
    "        food = randint(3, 12)\n",
    "        hunger -= min(food, hunger)\n",
    "\n",
    "        yield env.timeout(BREAK_LENGTH)\n",
    "\n",
    "        print(f\"({env.now:.2f}) Attendee {name} finished eating with hunger {hunger:.2f}.\")\n",
    "\n",
    "# driver\n",
    "env = simpy.Environment()\n",
    "for i in range(5):\n",
    "    env.process(attendee(env, i))\n",
    "env.run(until=220)"
   ]
  },
  {
   "cell_type": "code",
   "execution_count": null,
   "metadata": {},
   "outputs": [],
   "source": []
  }
 ],
 "metadata": {
  "kernelspec": {
   "display_name": ".venv",
   "language": "python",
   "name": "python3"
  },
  "language_info": {
   "codemirror_mode": {
    "name": "ipython",
    "version": 3
   },
   "file_extension": ".py",
   "mimetype": "text/x-python",
   "name": "python",
   "nbconvert_exporter": "python",
   "pygments_lexer": "ipython3",
   "version": "3.11.1"
  },
  "orig_nbformat": 4,
  "vscode": {
   "interpreter": {
    "hash": "50a1cc32bc36d623d54641a1bada88b320ee9173cde2ee79aea2fa22388d558f"
   }
  }
 },
 "nbformat": 4,
 "nbformat_minor": 2
}
