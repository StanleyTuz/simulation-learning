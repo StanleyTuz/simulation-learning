{
 "cells": [
  {
   "attachments": {},
   "cell_type": "markdown",
   "metadata": {},
   "source": [
    "Movie theater with one ticket counter, selling tickets for three movies.\n",
    "\n",
    "* People arrive randomly\n",
    "* People try to buy a random number (1-6) of tickets for a random movie\n",
    "* When a movie is sold out, all people waiting to buy tickets for that movie leave the queue\n",
    "\n",
    "\n",
    "A moviegoer\n",
    "* begins waiting until it's his turn or until the sold out signal is triggered\n",
    "* if he gets to counter, he tries to buy tickets\n",
    "  * if there are enough tickets, he is successful\n",
    "  * otherwise he leaves\n",
    "* if there are <2 tickets remaining, the sold out signal is triggered"
   ]
  },
  {
   "cell_type": "code",
   "execution_count": 6,
   "metadata": {},
   "outputs": [
    {
     "name": "stdout",
     "output_type": "stream",
     "text": [
      "Movie Renege\n",
      "Movie 'Python Unchained' sold out after 38.0 minutes.\n",
      "  Number of people disappointed in queue: 16\n",
      "Movie 'Kill Process' sold out after 43.0 minutes.\n",
      "  Number of people disappointed in queue: 5\n",
      "Movie 'Pulp Implementation' sold out after 28.0 minutes.\n",
      "  Number of people disappointed in queue: 5\n"
     ]
    },
    {
     "ename": "",
     "evalue": "",
     "output_type": "error",
     "traceback": [
      "\u001b[1;31mThe Kernel crashed while executing code in the the current cell or a previous cell. Please review the code in the cell(s) to identify a possible cause of the failure. Click <a href='https://aka.ms/vscodeJupyterKernelCrash'>here</a> for more info. View Jupyter <a href='command:jupyter.viewOutput'>log</a> for further details."
     ]
    }
   ],
   "source": [
    "import random\n",
    "import simpy\n",
    "\n",
    "from typing import NamedTuple\n",
    "\n",
    "RANDOM_SEED = 42\n",
    "TICKETS = 50  # avail tickets per movie\n",
    "SELLOUT_THRESHOLD = 2\n",
    "SIM_TIME = 120\n",
    "\n",
    "\n",
    "class Theater(NamedTuple):\n",
    "    counter: simpy.Resource\n",
    "    movies: list[str]\n",
    "    available: dict[str, int]\n",
    "    sold_out: dict[str, simpy.Event]\n",
    "    when_sold_out: dict[str, float | None]\n",
    "    num_renegers: dict[str, int]\n",
    "\n",
    "\n",
    "def moviegoer(env: simpy.Environment, movie, num_tickets: int, theater: Theater):\n",
    "    \"\"\"Moviegoer attempts to buy a number of tickets for a certain movie in a theater.\n",
    "    \n",
    "    \"\"\"\n",
    "    with theater.counter.request() as my_turn:\n",
    "        # wait until it's my turn or until movie sells out\n",
    "        result = yield my_turn | theater.sold_out[movie]\n",
    "\n",
    "        # check if it's my turn or if sold out\n",
    "        if my_turn not in result:\n",
    "            # must've sold out\n",
    "            theater.num_renegers[movie] += 1\n",
    "            return\n",
    "\n",
    "        # check if enough tickets left\n",
    "        if theater.available[movie] < num_tickets:\n",
    "            # moviegoer leaves counter after being disappointed\n",
    "            yield env.timeout(0.5)\n",
    "            return\n",
    "\n",
    "        # buy tickets\n",
    "        theater.available[movie] -= num_tickets\n",
    "        # if we are now sold out, send sold out signal\n",
    "        if theater.available[movie] < SELLOUT_THRESHOLD:\n",
    "            theater.sold_out[movie].succeed()  # why not just a bool?\n",
    "            theater.when_sold_out[movie] = env.now\n",
    "            theater.available[movie] = 0\n",
    "        # leave counter after paying\n",
    "        yield env.timeout(1)\n",
    "\n",
    "\n",
    "def customer_arrivals(env: simpy.Environment, theater):\n",
    "    \"\"\"Process: create new moviegoers until sim ends\"\"\"\n",
    "    while True:\n",
    "        # Scheduling next arrival event\n",
    "        yield env.timeout(random.expovariate(1 / 0.5))\n",
    "\n",
    "        movie = random.choice(theater.movies)\n",
    "        num_tickets = random.randint(1, 6)\n",
    "        if theater.available[movie]:\n",
    "            env.process(moviegoer(env, movie, num_tickets, theater))\n",
    "\n",
    "\n",
    "print(\"Movie Renege\")\n",
    "random.seed(RANDOM_SEED)\n",
    "\n",
    "env = simpy.Environment()\n",
    "\n",
    "# create theater\n",
    "movies = ['Python Unchained', 'Kill Process', 'Pulp Implementation']\n",
    "theater = Theater(\n",
    "    counter=simpy.Resource(env, capacity=1),\n",
    "    movies=movies,\n",
    "    available={movie: TICKETS for movie in movies},\n",
    "    sold_out={movie: env.event() for movie in movies},\n",
    "    when_sold_out={movie: None for movie in movies},\n",
    "    num_renegers={movie: 0 for movie in movies},\n",
    ")\n",
    "\n",
    "# start process and run\n",
    "env.process(customer_arrivals(env, theater))\n",
    "env.run(until=SIM_TIME)\n",
    "\n",
    "# Analysis\n",
    "for movie in movies:\n",
    "    if theater.sold_out[movie]:\n",
    "        sellout_time = theater.when_sold_out[movie]\n",
    "        num_renegers = theater.num_renegers[movie]\n",
    "        print(f\"Movie {movie!r} sold out after {sellout_time:.1f} minutes.\")\n",
    "        print(f\"  Number of people disappointed in queue: {num_renegers}\")"
   ]
  },
  {
   "cell_type": "code",
   "execution_count": null,
   "metadata": {},
   "outputs": [],
   "source": []
  }
 ],
 "metadata": {
  "kernelspec": {
   "display_name": ".venv",
   "language": "python",
   "name": "python3"
  },
  "language_info": {
   "codemirror_mode": {
    "name": "ipython",
    "version": 3
   },
   "file_extension": ".py",
   "mimetype": "text/x-python",
   "name": "python",
   "nbconvert_exporter": "python",
   "pygments_lexer": "ipython3",
   "version": "3.11.1 (tags/v3.11.1:a7a450f, Dec  6 2022, 19:58:39) [MSC v.1934 64 bit (AMD64)]"
  },
  "orig_nbformat": 4,
  "vscode": {
   "interpreter": {
    "hash": "50a1cc32bc36d623d54641a1bada88b320ee9173cde2ee79aea2fa22388d558f"
   }
  }
 },
 "nbformat": 4,
 "nbformat_minor": 2
}
